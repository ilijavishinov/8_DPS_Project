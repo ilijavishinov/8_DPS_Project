{
 "cells": [
  {
   "cell_type": "markdown",
   "source": [
    "## Generating shell scripts"
   ],
   "metadata": {
    "collapsed": false,
    "pycharm": {
     "name": "#%% md\n"
    }
   }
  },
  {
   "cell_type": "code",
   "execution_count": 23,
   "metadata": {
    "collapsed": true
   },
   "outputs": [],
   "source": [
    "import os\n",
    "import numpy as np\n",
    "import re"
   ]
  },
  {
   "cell_type": "markdown",
   "source": [
    "#### ------------------------------------\n",
    "## afdb\n",
    "#### ------------------------------------"
   ],
   "metadata": {
    "collapsed": false,
    "pycharm": {
     "name": "#%% md\n"
    }
   }
  },
  {
   "cell_type": "code",
   "execution_count": 37,
   "outputs": [
    {
     "name": "stdout",
     "output_type": "stream",
     "text": [
      "rdsamp -r afdb/00735 -v -c > afdb/samples/00735.csv\n",
      "rdsamp -r afdb/03665 -v -c > afdb/samples/03665.csv\n",
      "rdsamp -r afdb/04015 -v -c > afdb/samples/04015.csv\n",
      "rdsamp -r afdb/04043 -v -c > afdb/samples/04043.csv\n",
      "rdsamp -r afdb/04048 -v -c > afdb/samples/04048.csv\n",
      "rdsamp -r afdb/04126 -v -c > afdb/samples/04126.csv\n",
      "rdsamp -r afdb/04746 -v -c > afdb/samples/04746.csv\n",
      "rdsamp -r afdb/04908 -v -c > afdb/samples/04908.csv\n",
      "rdsamp -r afdb/04936 -v -c > afdb/samples/04936.csv\n",
      "rdsamp -r afdb/05091 -v -c > afdb/samples/05091.csv\n",
      "rdsamp -r afdb/05121 -v -c > afdb/samples/05121.csv\n",
      "rdsamp -r afdb/05261 -v -c > afdb/samples/05261.csv\n",
      "rdsamp -r afdb/06426 -v -c > afdb/samples/06426.csv\n",
      "rdsamp -r afdb/06453 -v -c > afdb/samples/06453.csv\n",
      "rdsamp -r afdb/06995 -v -c > afdb/samples/06995.csv\n",
      "rdsamp -r afdb/07162 -v -c > afdb/samples/07162.csv\n",
      "rdsamp -r afdb/07859 -v -c > afdb/samples/07859.csv\n",
      "rdsamp -r afdb/07879 -v -c > afdb/samples/07879.csv\n",
      "rdsamp -r afdb/07910 -v -c > afdb/samples/07910.csv\n",
      "rdsamp -r afdb/08215 -v -c > afdb/samples/08215.csv\n",
      "rdsamp -r afdb/08219 -v -c > afdb/samples/08219.csv\n",
      "rdsamp -r afdb/08378 -v -c > afdb/samples/08378.csv\n",
      "rdsamp -r afdb/08405 -v -c > afdb/samples/08405.csv\n",
      "rdsamp -r afdb/08434 -v -c > afdb/samples/08434.csv\n",
      "rdsamp -r afdb/08455 -v -c > afdb/samples/08455.csv\n"
     ]
    }
   ],
   "source": [
    "afdb_data_dir = 'D:\\FINKI\\8_dps\\Project\\DATA\\\\raw_physionet_data\\\\afdb\\\\files'\n",
    "\n",
    "list_of_files = list()\n",
    "\n",
    "for file in os.listdir(afdb_data_dir):\n",
    "    if re.match(r'\\d', file):\n",
    "        list_of_files.append(file.split('.')[0])\n",
    "\n",
    "\n",
    "for patient_id in np.unique(list_of_files):\n",
    "    print(f'rdsamp -r afdb/{patient_id} -v -c > afdb/samples/{patient_id}.csv')"
   ],
   "metadata": {
    "collapsed": false,
    "pycharm": {
     "name": "#%%\n"
    }
   }
  },
  {
   "cell_type": "markdown",
   "source": [
    "#### ------------------------------------\n",
    "## cudb\n",
    "#### ------------------------------------"
   ],
   "metadata": {
    "collapsed": false,
    "pycharm": {
     "name": "#%% md\n"
    }
   }
  },
  {
   "cell_type": "code",
   "execution_count": 38,
   "outputs": [
    {
     "name": "stdout",
     "output_type": "stream",
     "text": [
      "rdsamp -r cudb/cu01 -v -c > cudb/samples/cu01.csv\n",
      "rdsamp -r cudb/cu02 -v -c > cudb/samples/cu02.csv\n",
      "rdsamp -r cudb/cu03 -v -c > cudb/samples/cu03.csv\n",
      "rdsamp -r cudb/cu04 -v -c > cudb/samples/cu04.csv\n",
      "rdsamp -r cudb/cu05 -v -c > cudb/samples/cu05.csv\n",
      "rdsamp -r cudb/cu06 -v -c > cudb/samples/cu06.csv\n",
      "rdsamp -r cudb/cu07 -v -c > cudb/samples/cu07.csv\n",
      "rdsamp -r cudb/cu08 -v -c > cudb/samples/cu08.csv\n",
      "rdsamp -r cudb/cu09 -v -c > cudb/samples/cu09.csv\n",
      "rdsamp -r cudb/cu10 -v -c > cudb/samples/cu10.csv\n",
      "rdsamp -r cudb/cu11 -v -c > cudb/samples/cu11.csv\n",
      "rdsamp -r cudb/cu12 -v -c > cudb/samples/cu12.csv\n",
      "rdsamp -r cudb/cu13 -v -c > cudb/samples/cu13.csv\n",
      "rdsamp -r cudb/cu14 -v -c > cudb/samples/cu14.csv\n",
      "rdsamp -r cudb/cu15 -v -c > cudb/samples/cu15.csv\n",
      "rdsamp -r cudb/cu16 -v -c > cudb/samples/cu16.csv\n",
      "rdsamp -r cudb/cu17 -v -c > cudb/samples/cu17.csv\n",
      "rdsamp -r cudb/cu18 -v -c > cudb/samples/cu18.csv\n",
      "rdsamp -r cudb/cu19 -v -c > cudb/samples/cu19.csv\n",
      "rdsamp -r cudb/cu20 -v -c > cudb/samples/cu20.csv\n",
      "rdsamp -r cudb/cu21 -v -c > cudb/samples/cu21.csv\n",
      "rdsamp -r cudb/cu22 -v -c > cudb/samples/cu22.csv\n",
      "rdsamp -r cudb/cu23 -v -c > cudb/samples/cu23.csv\n",
      "rdsamp -r cudb/cu24 -v -c > cudb/samples/cu24.csv\n",
      "rdsamp -r cudb/cu25 -v -c > cudb/samples/cu25.csv\n",
      "rdsamp -r cudb/cu26 -v -c > cudb/samples/cu26.csv\n",
      "rdsamp -r cudb/cu27 -v -c > cudb/samples/cu27.csv\n",
      "rdsamp -r cudb/cu28 -v -c > cudb/samples/cu28.csv\n",
      "rdsamp -r cudb/cu29 -v -c > cudb/samples/cu29.csv\n",
      "rdsamp -r cudb/cu30 -v -c > cudb/samples/cu30.csv\n",
      "rdsamp -r cudb/cu31 -v -c > cudb/samples/cu31.csv\n",
      "rdsamp -r cudb/cu32 -v -c > cudb/samples/cu32.csv\n",
      "rdsamp -r cudb/cu33 -v -c > cudb/samples/cu33.csv\n",
      "rdsamp -r cudb/cu34 -v -c > cudb/samples/cu34.csv\n",
      "rdsamp -r cudb/cu35 -v -c > cudb/samples/cu35.csv\n"
     ]
    }
   ],
   "source": [
    "cudb_data_dir = 'D:\\FINKI\\8_dps\\Project\\DATA\\\\raw_physionet_data\\\\cudb'\n",
    "\n",
    "list_of_files = list()\n",
    "\n",
    "for file in os.listdir(cudb_data_dir):\n",
    "    if re.match(r'cu*', file):\n",
    "        list_of_files.append(file.split('.')[0])\n",
    "\n",
    "for patient_id in np.unique(list_of_files):\n",
    "    print(f'rdsamp -r cudb/{patient_id} -v -c > cudb/samples/{patient_id}.csv')"
   ],
   "metadata": {
    "collapsed": false,
    "pycharm": {
     "name": "#%%\n"
    }
   }
  },
  {
   "cell_type": "markdown",
   "source": [
    "#### ------------------------------------\n",
    "## mitdb\n",
    "#### ------------------------------------"
   ],
   "metadata": {
    "collapsed": false,
    "pycharm": {
     "name": "#%% md\n"
    }
   }
  },
  {
   "cell_type": "code",
   "execution_count": 39,
   "outputs": [
    {
     "name": "stdout",
     "output_type": "stream",
     "text": [
      "rdsamp -r mitdb/100 -v -c > mitdb/samples/100.csv\n",
      "rdsamp -r mitdb/101 -v -c > mitdb/samples/101.csv\n",
      "rdsamp -r mitdb/102 -v -c > mitdb/samples/102.csv\n",
      "rdsamp -r mitdb/102-0 -v -c > mitdb/samples/102-0.csv\n",
      "rdsamp -r mitdb/103 -v -c > mitdb/samples/103.csv\n",
      "rdsamp -r mitdb/104 -v -c > mitdb/samples/104.csv\n",
      "rdsamp -r mitdb/105 -v -c > mitdb/samples/105.csv\n",
      "rdsamp -r mitdb/106 -v -c > mitdb/samples/106.csv\n",
      "rdsamp -r mitdb/107 -v -c > mitdb/samples/107.csv\n",
      "rdsamp -r mitdb/108 -v -c > mitdb/samples/108.csv\n",
      "rdsamp -r mitdb/109 -v -c > mitdb/samples/109.csv\n",
      "rdsamp -r mitdb/111 -v -c > mitdb/samples/111.csv\n",
      "rdsamp -r mitdb/112 -v -c > mitdb/samples/112.csv\n",
      "rdsamp -r mitdb/113 -v -c > mitdb/samples/113.csv\n",
      "rdsamp -r mitdb/114 -v -c > mitdb/samples/114.csv\n",
      "rdsamp -r mitdb/115 -v -c > mitdb/samples/115.csv\n",
      "rdsamp -r mitdb/116 -v -c > mitdb/samples/116.csv\n",
      "rdsamp -r mitdb/117 -v -c > mitdb/samples/117.csv\n",
      "rdsamp -r mitdb/118 -v -c > mitdb/samples/118.csv\n",
      "rdsamp -r mitdb/119 -v -c > mitdb/samples/119.csv\n",
      "rdsamp -r mitdb/121 -v -c > mitdb/samples/121.csv\n",
      "rdsamp -r mitdb/122 -v -c > mitdb/samples/122.csv\n",
      "rdsamp -r mitdb/123 -v -c > mitdb/samples/123.csv\n",
      "rdsamp -r mitdb/124 -v -c > mitdb/samples/124.csv\n",
      "rdsamp -r mitdb/200 -v -c > mitdb/samples/200.csv\n",
      "rdsamp -r mitdb/201 -v -c > mitdb/samples/201.csv\n",
      "rdsamp -r mitdb/202 -v -c > mitdb/samples/202.csv\n",
      "rdsamp -r mitdb/203 -v -c > mitdb/samples/203.csv\n",
      "rdsamp -r mitdb/205 -v -c > mitdb/samples/205.csv\n",
      "rdsamp -r mitdb/207 -v -c > mitdb/samples/207.csv\n",
      "rdsamp -r mitdb/208 -v -c > mitdb/samples/208.csv\n",
      "rdsamp -r mitdb/209 -v -c > mitdb/samples/209.csv\n",
      "rdsamp -r mitdb/210 -v -c > mitdb/samples/210.csv\n",
      "rdsamp -r mitdb/212 -v -c > mitdb/samples/212.csv\n",
      "rdsamp -r mitdb/213 -v -c > mitdb/samples/213.csv\n",
      "rdsamp -r mitdb/214 -v -c > mitdb/samples/214.csv\n",
      "rdsamp -r mitdb/215 -v -c > mitdb/samples/215.csv\n",
      "rdsamp -r mitdb/217 -v -c > mitdb/samples/217.csv\n",
      "rdsamp -r mitdb/219 -v -c > mitdb/samples/219.csv\n",
      "rdsamp -r mitdb/220 -v -c > mitdb/samples/220.csv\n",
      "rdsamp -r mitdb/221 -v -c > mitdb/samples/221.csv\n",
      "rdsamp -r mitdb/222 -v -c > mitdb/samples/222.csv\n",
      "rdsamp -r mitdb/223 -v -c > mitdb/samples/223.csv\n",
      "rdsamp -r mitdb/228 -v -c > mitdb/samples/228.csv\n",
      "rdsamp -r mitdb/230 -v -c > mitdb/samples/230.csv\n",
      "rdsamp -r mitdb/231 -v -c > mitdb/samples/231.csv\n",
      "rdsamp -r mitdb/232 -v -c > mitdb/samples/232.csv\n",
      "rdsamp -r mitdb/233 -v -c > mitdb/samples/233.csv\n",
      "rdsamp -r mitdb/234 -v -c > mitdb/samples/234.csv\n"
     ]
    }
   ],
   "source": [
    "cudb_data_dir = 'D:\\FINKI\\8_dps\\Project\\DATA\\\\raw_physionet_data\\\\mitdb\\mit-bih-arrhythmia-database-1.0.0'\n",
    "\n",
    "list_of_files = list()\n",
    "\n",
    "for file in os.listdir(cudb_data_dir):\n",
    "    if re.match(r'\\d', file):\n",
    "        list_of_files.append(file.split('.')[0])\n",
    "\n",
    "for patient_id in np.unique(list_of_files):\n",
    "    print(f'rdsamp -r mitdb/{patient_id} -v -c > mitdb/samples/{patient_id}.csv')\n",
    "\n"
   ],
   "metadata": {
    "collapsed": false,
    "pycharm": {
     "name": "#%%\n"
    }
   }
  },
  {
   "cell_type": "code",
   "execution_count": null,
   "outputs": [],
   "source": [],
   "metadata": {
    "collapsed": false,
    "pycharm": {
     "name": "#%%\n"
    }
   }
  }
 ],
 "metadata": {
  "kernelspec": {
   "display_name": "Python 3",
   "language": "python",
   "name": "python3"
  },
  "language_info": {
   "codemirror_mode": {
    "name": "ipython",
    "version": 2
   },
   "file_extension": ".py",
   "mimetype": "text/x-python",
   "name": "python",
   "nbconvert_exporter": "python",
   "pygments_lexer": "ipython2",
   "version": "2.7.6"
  }
 },
 "nbformat": 4,
 "nbformat_minor": 0
}