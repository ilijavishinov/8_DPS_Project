{
 "cells": [
  {
   "cell_type": "code",
   "execution_count": 15,
   "metadata": {
    "collapsed": true
   },
   "outputs": [],
   "source": [
    "import pandas as pd\n",
    "from scipy import stats\n",
    "import matplotlib.pyplot as plt\n",
    "import seaborn as sns\n",
    "plt.style.use(['dark_background'])\n",
    "plt.rcParams[\"figure.figsize\"] = (10,7)\n",
    "from typing import List, Union\n",
    "import os\n",
    "\n",
    "data_dir = 'D:\\FINKI\\8_dps\\Project\\DATA\\physionet_dbs\\cudb\\clean_segments_ft_250hz'\n",
    "plots_dir = 'Plots'\n",
    "if not os.path.exists(plots_dir):\n",
    "    os.makedirs(plots_dir)\n",
    "tables_dir = 'Tables'\n",
    "if not os.path.exists(tables_dir):\n",
    "    os.makedirs(tables_dir)\n"
   ]
  },
  {
   "cell_type": "code",
   "execution_count": 34,
   "outputs": [],
   "source": [
    "def sns_palette_map(input_string: str):\n",
    "    if input_string.lower() == 'g': return 'Greens'\n",
    "    if input_string.lower() == 'r': return 'Reds'\n",
    "\n",
    "def distribution_histogram_box_plots(df: pd.DataFrame,\n",
    "                                             ft_feature_name: str,\n",
    "                                             class_feature_name: str,\n",
    "                                             classes: List[Union[str, int]],\n",
    "                                             classes_colors: List[str],\n",
    "                                             save_path: str = None\n",
    "                                             ):\n",
    "\n",
    "    # sort dataframe to match classes labels passed on as arguments to assure correct color of class elements\n",
    "    sorted_df = pd.DataFrame()\n",
    "    for class_i in classes:\n",
    "        sorted_df =  sorted_df.append(df[df[class_feature_name].isin([class_i])], ignore_index = True)\n",
    "    df = sorted_df\n",
    "\n",
    "    fig1, ax = plt.subplots(constrained_layout=False)\n",
    "    gs = fig1.add_gridspec(2, 1, height_ratios=[5,1])\n",
    "\n",
    "    ax1 = fig1.add_subplot(gs[0, 0])\n",
    "\n",
    "    for class_iter in classes:\n",
    "        ax1 = sns.distplot(\n",
    "            df[df[class_feature_name] == class_iter][ft_feature_name],\n",
    "            color = [\n",
    "                sns.color_palette(palette_colors)[3]\n",
    "                for palette_colors in map(sns_palette_map, classes_colors)][classes.index(class_iter)\n",
    "            ],\n",
    "            rug = False,\n",
    "            kde_kws = {'alpha': .7},\n",
    "            ax = ax1\n",
    "        )\n",
    "\n",
    "    ax2 = fig1.add_subplot(gs[1, 0])\n",
    "    sns.boxplot(\n",
    "        data=df,\n",
    "        x=ft_feature_name,\n",
    "        y=class_feature_name,\n",
    "        notch=True,\n",
    "        ax = ax2,\n",
    "        palette = [\n",
    "            sns.color_palette(palette_colors)[3]\n",
    "            for palette_colors in map(sns_palette_map, classes_colors)\n",
    "        ]\n",
    "    )\n",
    "\n",
    "    sns.despine()\n",
    "    ax.set_axis_off()\n",
    "    plt.tight_layout()\n",
    "    plt.savefig(save_path)\n",
    "    plt.show()\n",
    "    plt.close()\n"
   ],
   "metadata": {
    "collapsed": false,
    "pycharm": {
     "name": "#%%\n"
    }
   }
  },
  {
   "cell_type": "code",
   "execution_count": 29,
   "outputs": [
    {
     "name": "stdout",
     "output_type": "stream",
     "text": [
      "ft_segments_3s.csv\n",
      "    ft_coefficient   pbc_r  p_val\n",
      "64              64  0.1995    0.0\n",
      "63              63  0.1886    0.0\n",
      "62              62  0.1808    0.0\n",
      "55              55  0.1775    0.0\n",
      "61              61  0.1757    0.0\n",
      "ft_segments_4s.csv\n",
      "    ft_coefficient   pbc_r  p_val\n",
      "84              84  0.2097    0.0\n",
      "83              83  0.2013    0.0\n",
      "74              74  0.1954    0.0\n",
      "75              75  0.1950    0.0\n",
      "82              82  0.1930    0.0\n",
      "ft_segments_5s.csv\n",
      "     ft_coefficient   pbc_r  p_val\n",
      "104             104  0.2189    0.0\n",
      "93               93  0.2140    0.0\n",
      "94               94  0.2130    0.0\n",
      "92               92  0.2095    0.0\n",
      "103             103  0.2092    0.0\n",
      "ft_segments_6s.csv\n",
      "     ft_coefficient   pbc_r  p_val\n",
      "111             111  0.2291    0.0\n",
      "112             112  0.2283    0.0\n",
      "110             110  0.2256    0.0\n",
      "124             124  0.2245    0.0\n",
      "113             113  0.2244    0.0\n",
      "ft_segments_7s.csv\n",
      "     ft_coefficient   pbc_r  p_val\n",
      "149             149  0.2524    0.0\n",
      "148             148  0.2500    0.0\n",
      "147             147  0.2478    0.0\n",
      "146             146  0.2450    0.0\n",
      "130             130  0.2425    0.0\n",
      "ft_segments_8s.csv\n",
      "     ft_coefficient   pbc_r  p_val\n",
      "169             169  0.2622    0.0\n",
      "168             168  0.2590    0.0\n",
      "167             167  0.2550    0.0\n",
      "149             149  0.2546    0.0\n",
      "148             148  0.2543    0.0\n",
      "ft_segments_9s.csv\n",
      "     ft_coefficient   pbc_r  p_val\n",
      "189             189  0.2695    0.0\n",
      "166             166  0.2659    0.0\n",
      "188             188  0.2651    0.0\n",
      "165             165  0.2647    0.0\n",
      "167             167  0.2641    0.0\n",
      "ft_segments_10s.csv\n",
      "     ft_coefficient   pbc_r  p_val\n",
      "209             209  0.2734    0.0\n",
      "183             183  0.2730    0.0\n",
      "184             184  0.2729    0.0\n",
      "185             185  0.2714    0.0\n",
      "208             208  0.2713    0.0\n"
     ]
    }
   ],
   "source": [
    "# NOTE: ft_coefficients features start from 0 to match with the dataframe index and simplify operations\n",
    "\n",
    "best_pbc_corrs_by_dataset = dict()\n",
    "\n",
    "for segments_length_seconds in [3,4,5,6,7,8,9,10]:\n",
    "    file = f'ft_segments_{segments_length_seconds}s.csv'; print(file)\n",
    "\n",
    "    dataset = pd.read_csv(f'{data_dir}\\\\{file}')\n",
    "\n",
    "    dataset = dataset[dataset['episode'].isin(['N', 'VF'])]\n",
    "    dataset.replace({'N': 0, 'VF': 1}, inplace = True)\n",
    "\n",
    "    dataset['segment_fft'] = dataset['segment_fft'].apply(lambda seg_list: eval(seg_list))\n",
    "\n",
    "    for ft_coefficient_iter in range(len(dataset.iloc[0]['segment_fft'])):\n",
    "        dataset[f'ft_coefficient_{ft_coefficient_iter}'] = dataset['segment_fft'].apply(\n",
    "            lambda ft_segment: ft_segment[ft_coefficient_iter]\n",
    "        )\n",
    "\n",
    "    pbc_corrs_list_to_df = list()\n",
    "\n",
    "    for ft_coefficient_iter in range(len(dataset.iloc[0]['segment_fft'])):\n",
    "\n",
    "        pbc_r, p_val = stats.pearsonr(dataset[f'ft_coefficient_{ft_coefficient_iter}'], dataset['episode'])\n",
    "\n",
    "        pbc_corrs_list_to_df.append(dict(\n",
    "                ft_coefficient = ft_coefficient_iter,\n",
    "                pbc_r = round(pbc_r, 4),\n",
    "                p_val = round(p_val, 4),\n",
    "        ))\n",
    "\n",
    "    pbc_df = pd.DataFrame(pbc_corrs_list_to_df)\n",
    "    pbc_df.sort_values(by = 'pbc_r', inplace = True, ascending = False)\n",
    "    print(pbc_df.head())\n",
    "\n",
    "    best_pbc_corrs_by_dataset[segments_length_seconds] = {\n",
    "        ft_coef: pbc_corr_coef\n",
    "        for (ft_coef, pbc_corr_coef) in pbc_df.iloc[:5].to_dict()['pbc_r'].items()\n",
    "    }\n",
    "\n",
    "    pbc_df.to_excel(f'{tables_dir}\\\\{file.replace(\".csv\",\"\")}_pbc.xlsx', index = False)"
   ],
   "metadata": {
    "collapsed": false,
    "pycharm": {
     "name": "#%%\n"
    }
   }
  },
  {
   "cell_type": "code",
   "execution_count": null,
   "outputs": [
    {
     "name": "stdout",
     "output_type": "stream",
     "text": [
      "ft_segments_3s.csv\n"
     ]
    },
    {
     "name": "stderr",
     "output_type": "stream",
     "text": [
      "C:\\Users\\ilija\\AppData\\Roaming\\Python\\Python38\\site-packages\\seaborn\\distributions.py:2551: FutureWarning: `distplot` is a deprecated function and will be removed in a future version. Please adapt your code to use either `displot` (a figure-level function with similar flexibility) or `histplot` (an axes-level function for histograms).\n",
      "  warnings.warn(msg, FutureWarning)\n",
      "C:\\Users\\ilija\\AppData\\Roaming\\Python\\Python38\\site-packages\\seaborn\\distributions.py:2551: FutureWarning: `distplot` is a deprecated function and will be removed in a future version. Please adapt your code to use either `displot` (a figure-level function with similar flexibility) or `histplot` (an axes-level function for histograms).\n",
      "  warnings.warn(msg, FutureWarning)\n"
     ]
    }
   ],
   "source": [
    "for segments_length_seconds, best_pbc_corrs_dict in best_pbc_corrs_by_dataset.items():\n",
    "    file = f'ft_segments_{segments_length_seconds}s.csv'; print(file)\n",
    "\n",
    "    dataset = dataset = pd.read_csv(f'{data_dir}\\\\{file}')\n",
    "\n",
    "    dataset = dataset[dataset['episode'].isin(['N', 'VF'])]\n",
    "    dataset.replace({'N': 0, 'VF': 1}, inplace = True)\n",
    "    dataset['segment_fft'] = dataset['segment_fft'].apply(lambda seg_list: eval(seg_list))\n",
    "\n",
    "    for top_ft_coeff in best_pbc_corrs_dict.keys():\n",
    "\n",
    "        dataset[f'ft_coefficient_{top_ft_coeff}'] = dataset['segment_fft'].apply(\n",
    "            lambda ft_segment: ft_segment[top_ft_coeff]\n",
    "        )\n",
    "\n",
    "        distribution_histogram_box_plots(\n",
    "                df = dataset,\n",
    "                ft_feature_name = f'ft_coefficient_{top_ft_coeff}',\n",
    "                class_feature_name = 'episode',\n",
    "                classes = [0,1],\n",
    "                classes_colors = ['g', 'r'],\n",
    "                save_path = f'{plots_dir}\\\\segments_3s_ft_coeff_{top_ft_coeff}.pdf'\n",
    "        )"
   ],
   "metadata": {
    "collapsed": false,
    "pycharm": {
     "name": "#%%\n",
     "is_executing": true
    }
   }
  },
  {
   "cell_type": "code",
   "execution_count": null,
   "outputs": [],
   "source": [],
   "metadata": {
    "collapsed": false,
    "pycharm": {
     "name": "#%%\n"
    }
   }
  }
 ],
 "metadata": {
  "kernelspec": {
   "display_name": "Python 3",
   "language": "python",
   "name": "python3"
  },
  "language_info": {
   "codemirror_mode": {
    "name": "ipython",
    "version": 2
   },
   "file_extension": ".py",
   "mimetype": "text/x-python",
   "name": "python",
   "nbconvert_exporter": "python",
   "pygments_lexer": "ipython2",
   "version": "2.7.6"
  }
 },
 "nbformat": 4,
 "nbformat_minor": 0
}