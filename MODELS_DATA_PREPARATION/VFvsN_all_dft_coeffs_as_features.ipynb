{
 "cells": [
  {
   "cell_type": "code",
   "execution_count": 47,
   "outputs": [],
   "source": [
    "import pandas as pd\n",
    "import sklearn\n",
    "import imblearn\n",
    "import os\n",
    "\n",
    "data_dir = 'D:\\FINKI\\8_dps\\Project\\DATA\\physionet_dbs\\cudb\\clean_segments_ft_250hz'\n",
    "write_data_dir = 'D:\\FINKI\\8_dps\\Project\\DATA\\MODELS_DATA\\\\base_models_all_dft_coefficients'\n",
    "if not os.path.exists(write_data_dir):\n",
    "    os.makedirs(write_data_dir)"
   ],
   "metadata": {
    "collapsed": false,
    "pycharm": {
     "name": "#%%\n"
    }
   }
  },
  {
   "cell_type": "code",
   "execution_count": 48,
   "outputs": [],
   "source": [
    "def undersampling_dict_generation(y_):\n",
    "\n",
    "    class_feature = pd.Series(y_)\n",
    "    return {\n",
    "        class_label: class_feature.value_counts().min()\n",
    "        for class_label in list(class_feature.value_counts().to_dict().keys())\n",
    "    }"
   ],
   "metadata": {
    "collapsed": false,
    "pycharm": {
     "name": "#%%\n"
    }
   }
  },
  {
   "cell_type": "code",
   "execution_count": 51,
   "outputs": [
    {
     "name": "stdout",
     "output_type": "stream",
     "text": [
      "ft_segments_3s.csv\n",
      "ft_segments_4s.csv\n",
      "ft_segments_5s.csv\n",
      "ft_segments_6s.csv\n",
      "ft_segments_7s.csv\n",
      "ft_segments_8s.csv\n",
      "ft_segments_9s.csv\n",
      "ft_segments_10s.csv\n"
     ]
    }
   ],
   "source": [
    "best_pbc_corrs_by_dataset = dict()\n",
    "\n",
    "for segments_length_seconds in [3,4,5,6,7,8,9,10]:\n",
    "    file = f'ft_segments_{segments_length_seconds}s.csv'; print(file)\n",
    "\n",
    "    dataset = pd.read_csv(f'{data_dir}\\\\{file}')\n",
    "\n",
    "    dataset = dataset[dataset['episode'].isin(['N', 'VF'])]\n",
    "    dataset.replace({'N': 0, 'VF': 1}, inplace = True)\n",
    "\n",
    "    dataset['segment_fft'] = dataset['segment_fft'].apply(lambda seg_list: eval(seg_list))\n",
    "\n",
    "    for dft_coefficient_iter in range(len(dataset.iloc[0]['segment_fft'])):\n",
    "        dataset[f'dft_coefficient_{dft_coefficient_iter}'] = dataset['segment_fft'].apply(\n",
    "            lambda ft_segment: ft_segment[dft_coefficient_iter]\n",
    "        )\n",
    "\n",
    "    dataset.drop(labels = ['segment_fft'], axis = 1, inplace = True)\n",
    "\n",
    "    # knn undersampler did not accept dictionary as sampling_strategy even though\n",
    "    # in the docs it was said it does, thus opting for random undersampling for initial models\n",
    "    random_undersampler = imblearn.under_sampling.RandomUnderSampler(\n",
    "            sampling_strategy = undersampling_dict_generation\n",
    "    )\n",
    "\n",
    "    y = dataset.pop('episode')\n",
    "    X = dataset\n",
    "\n",
    "    X, y = random_undersampler.fit_resample(X,y)\n",
    "\n",
    "    shuffle_splitter = sklearn.model_selection.ShuffleSplit(test_size=.1, random_state=42)\n",
    "    train_idxs, test_idxs = next(shuffle_splitter.split(X))\n",
    "\n",
    "    X_train = X.iloc[train_idxs]\n",
    "    y_train = y.iloc[train_idxs]\n",
    "    X_test = X.iloc[test_idxs]\n",
    "    y_test = y.iloc[test_idxs]\n",
    "\n",
    "    standard_scaler = sklearn.preprocessing.StandardScaler()\n",
    "\n",
    "    X_train = pd.DataFrame(standard_scaler.fit_transform(X_train), columns = X_train.columns)\n",
    "    X_test = pd.DataFrame(standard_scaler.fit_transform(X_test), columns = X_test.columns)\n",
    "\n",
    "    X_train['episode'] = y_train.reset_index(drop = True)\n",
    "    X_test['episode'] = y_test.reset_index(drop = True)\n",
    "\n",
    "    train = X_train\n",
    "    test = X_test\n",
    "\n",
    "    train.to_csv(f'{write_data_dir}\\\\segments_{segments_length_seconds}s_train.csv', index = False)\n",
    "    test.to_csv(f'{write_data_dir}\\\\segments_{segments_length_seconds}s_test.csv', index = False)\n"
   ],
   "metadata": {
    "collapsed": false,
    "pycharm": {
     "name": "#%%\n"
    }
   }
  },
  {
   "cell_type": "code",
   "execution_count": null,
   "outputs": [],
   "source": [],
   "metadata": {
    "collapsed": false,
    "pycharm": {
     "name": "#%%\n"
    }
   }
  }
 ],
 "metadata": {
  "kernelspec": {
   "display_name": "Python 3",
   "language": "python",
   "name": "python3"
  },
  "language_info": {
   "codemirror_mode": {
    "name": "ipython",
    "version": 2
   },
   "file_extension": ".py",
   "mimetype": "text/x-python",
   "name": "python",
   "nbconvert_exporter": "python",
   "pygments_lexer": "ipython2",
   "version": "2.7.6"
  }
 },
 "nbformat": 4,
 "nbformat_minor": 0
}