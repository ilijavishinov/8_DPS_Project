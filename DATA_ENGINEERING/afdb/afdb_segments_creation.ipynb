{
 "cells": [
  {
   "cell_type": "markdown",
   "source": [
    "# Clean segments generation"
   ],
   "metadata": {
    "collapsed": false
   }
  },
  {
   "cell_type": "code",
   "execution_count": 1,
   "outputs": [],
   "source": [
    "import pandas as pd\n",
    "import os\n",
    "import gc\n",
    "\n",
    "signals_dir = 'D:\\FINKI\\8_dps\\Project\\DATA\\physionet_dbs\\\\afdb\\\\uniclass_episode_signals_250hz'\n",
    "write_data_dir = 'D:\\FINKI\\8_dps\\Project\\DATA\\physionet_dbs\\\\afdb\\\\clean_segments_250hz'\n",
    "if not os.path.exists(write_data_dir):\n",
    "    os.makedirs(write_data_dir)"
   ],
   "metadata": {
    "collapsed": false,
    "pycharm": {
     "name": "#%%\n"
    }
   }
  },
  {
   "cell_type": "code",
   "execution_count": 2,
   "outputs": [
    {
     "name": "stdout",
     "output_type": "stream",
     "text": [
      "3\n"
     ]
    },
    {
     "ename": "KeyboardInterrupt",
     "evalue": "",
     "output_type": "error",
     "traceback": [
      "\u001B[1;31m---------------------------------------------------------------------------\u001B[0m",
      "\u001B[1;31mKeyboardInterrupt\u001B[0m                         Traceback (most recent call last)",
      "\u001B[1;32m<ipython-input-2-8ba41ee0abc0>\u001B[0m in \u001B[0;36m<module>\u001B[1;34m\u001B[0m\n\u001B[0;32m     31\u001B[0m             })\n\u001B[0;32m     32\u001B[0m \u001B[1;33m\u001B[0m\u001B[0m\n\u001B[1;32m---> 33\u001B[1;33m         \u001B[0mgc\u001B[0m\u001B[1;33m.\u001B[0m\u001B[0mcollect\u001B[0m\u001B[1;33m(\u001B[0m\u001B[1;33m)\u001B[0m\u001B[1;33m\u001B[0m\u001B[1;33m\u001B[0m\u001B[0m\n\u001B[0m\u001B[0;32m     34\u001B[0m \u001B[1;33m\u001B[0m\u001B[0m\n\u001B[0;32m     35\u001B[0m     \u001B[0mpd\u001B[0m\u001B[1;33m.\u001B[0m\u001B[0mDataFrame\u001B[0m\u001B[1;33m(\u001B[0m\u001B[0msegments_dataset_list_to_df\u001B[0m\u001B[1;33m)\u001B[0m\u001B[0;31m\\\u001B[0m\u001B[1;33m\u001B[0m\u001B[1;33m\u001B[0m\u001B[0m\n",
      "\u001B[1;31mKeyboardInterrupt\u001B[0m: "
     ]
    }
   ],
   "source": [
    "HZ = 250\n",
    "SEGMENTS_SECONDS_DIFF = 0.5\n",
    "\n",
    "# seconds\n",
    "for SEGMENTS_LENGTH_SECONDS in [3,4,5,6,7,8,9,10]:\n",
    "    print(SEGMENTS_LENGTH_SECONDS)\n",
    "\n",
    "    segment_samples_length = HZ * SEGMENTS_LENGTH_SECONDS\n",
    "    segments_dataset_list_to_df = list()\n",
    "\n",
    "    for file in os.listdir(signals_dir):\n",
    "        file = str(file)\n",
    "\n",
    "        signal_df = pd.read_csv(f'{signals_dir}\\\\{file}')\n",
    "\n",
    "\n",
    "        for signal_row_idx in range(0, signal_df.shape[0], int(SEGMENTS_SECONDS_DIFF * HZ)):\n",
    "\n",
    "            # if no more segments can be created or\n",
    "            # if first iteration and signal is shorter than segment\n",
    "            if signal_row_idx + segment_samples_length > signal_df.shape[0] - 1:\n",
    "                break\n",
    "\n",
    "            segment_df = signal_df.iloc[signal_row_idx : signal_row_idx + segment_samples_length]\n",
    "\n",
    "            segments_dataset_list_to_df.append({\n",
    "                'file': file.split('_')[0],\n",
    "                'start': signal_df.iloc[signal_row_idx]['sample_idx'],\n",
    "                'segment_samples': segment_df['ecg'].to_list(),\n",
    "                'episode': file.split('_')[1],\n",
    "            })\n",
    "\n",
    "        gc.collect()\n",
    "\n",
    "    pd.DataFrame(segments_dataset_list_to_df)\\\n",
    "        .to_csv(f'{write_data_dir}\\\\segments_{SEGMENTS_LENGTH_SECONDS}.csv', index = False)\n",
    "\n",
    "    gc.collect()\n"
   ],
   "metadata": {
    "collapsed": false,
    "pycharm": {
     "name": "#%%\n"
    }
   }
  },
  {
   "cell_type": "code",
   "execution_count": 6,
   "outputs": [
    {
     "name": "stdout",
     "output_type": "stream",
     "text": [
      "0\n",
      "2\n",
      "4\n",
      "6\n",
      "8\n",
      "10\n",
      "12\n",
      "14\n",
      "16\n",
      "18\n",
      "20\n",
      "22\n",
      "24\n",
      "26\n",
      "28\n",
      "30\n",
      "32\n",
      "34\n",
      "36\n",
      "38\n",
      "40\n",
      "42\n",
      "44\n",
      "46\n",
      "48\n",
      "50\n",
      "52\n",
      "54\n",
      "56\n",
      "58\n",
      "60\n",
      "62\n",
      "64\n",
      "66\n",
      "68\n",
      "70\n",
      "72\n",
      "74\n",
      "76\n",
      "78\n",
      "80\n",
      "82\n",
      "84\n",
      "86\n",
      "88\n",
      "90\n",
      "92\n",
      "94\n",
      "96\n",
      "98\n"
     ]
    }
   ],
   "source": [
    "                        \n",
    "for x in range(0, 100, 2):\n",
    "    print(x)"
   ],
   "metadata": {
    "collapsed": false,
    "pycharm": {
     "name": "#%%\n"
    }
   }
  },
  {
   "cell_type": "code",
   "execution_count": 3,
   "outputs": [],
   "source": [
    "\n",
    "%reset"
   ],
   "metadata": {
    "collapsed": false,
    "pycharm": {
     "name": "#%%\n"
    }
   }
  },
  {
   "cell_type": "code",
   "execution_count": null,
   "outputs": [],
   "source": [],
   "metadata": {
    "collapsed": false,
    "pycharm": {
     "name": "#%%\n"
    }
   }
  }
 ],
 "metadata": {
  "kernelspec": {
   "display_name": "Python 3",
   "language": "python",
   "name": "python3"
  },
  "language_info": {
   "codemirror_mode": {
    "name": "ipython",
    "version": 2
   },
   "file_extension": ".py",
   "mimetype": "text/x-python",
   "name": "python",
   "nbconvert_exporter": "python",
   "pygments_lexer": "ipython2",
   "version": "2.7.6"
  }
 },
 "nbformat": 4,
 "nbformat_minor": 0
}