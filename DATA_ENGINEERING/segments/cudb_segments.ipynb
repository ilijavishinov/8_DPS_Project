{
 "cells": [
  {
   "cell_type": "code",
   "execution_count": 15,
   "metadata": {
    "collapsed": true
   },
   "outputs": [],
   "source": [
    "import pandas as pd\n",
    "import os\n",
    "\n",
    "ann_data_dir = 'D:\\FINKI\\8_dps\\Project\\DATA\\physionet_dbs\\cudb\\\\annotations_systemized'\n",
    "samp_data_dir = 'D:\\FINKI\\8_dps\\Project\\DATA\\physionet_dbs\\cudb\\samples'\n",
    "write_data_dir = 'D:\\FINKI\\8_dps\\Project\\DATA\\physionet_dbs\\cudb\\\\uniclass_episode_signals_250hz'\n",
    "\n",
    "if not os.path.exists(write_data_dir):\n",
    "    os.makedirs(write_data_dir)"
   ]
  },
  {
   "cell_type": "code",
   "execution_count": 16,
   "outputs": [],
   "source": [
    "for file in os.listdir(ann_data_dir):\n",
    "    file = str(file)\n",
    "    file =\n",
    "\n",
    "    ann_file = pd.read_csv(f'{ann_data_dir}\\\\{file}')\n",
    "    samp_file = pd.read_csv(f'{samp_data_dir}\\\\{file}')\n",
    "    samp_file.columns = ['sample_idx', 'ecg']\n",
    "\n",
    "    # beat annotations are irrelevant, so they are dismissed\n",
    "    ann_file = ann_file[~ann_file['episode'].isna()].reset_index(drop = True)\n",
    "\n",
    "    # iterating episodes\n",
    "    for ann_idx, ann_row in ann_file.iterrows():\n",
    "        if ann_row['episode']:\n",
    "            continue\n",
    "\n",
    "        episode = ann_row['episode']\n",
    "        episode_start_sample = ann_row['sample_idx']\n",
    "\n",
    "        # if last episode, go to end of file, otherwise end is the start of next episode\n",
    "        if ann_idx == ann_file.shape[0] - 1:\n",
    "            episode_end_sample = samp_file.iloc[-1]['sample_idx']\n",
    "        else:\n",
    "            episode_end_sample = ann_file.iloc[ann_idx + 1]['sample_idx'] - 1\n",
    "\n",
    "        clean_episode_signal = samp_file[\n",
    "            (samp_file['sample_idx'] >= episode_start_sample) &\n",
    "            (samp_file['sample_idx'] <= episode_end_sample)\n",
    "        ]\n",
    "\n",
    "        clean_episode_signal.to_csv(\n",
    "                f'{write_data_dir}\\\\'\n",
    "                f'{file.replace(\".csv\",\"\")}_'\n",
    "                f'{episode.replace(\"(\",\"\")}_'\n",
    "                f'{ann_idx}'\n",
    "        )\n",
    "\n",
    "        # break\n",
    "    #\n",
    "    # break"
   ],
   "metadata": {
    "collapsed": false,
    "pycharm": {
     "name": "#%%\n"
    }
   }
  },
  {
   "cell_type": "code",
   "execution_count": 14,
   "outputs": [],
   "source": [],
   "metadata": {
    "collapsed": false,
    "pycharm": {
     "name": "#%%\n"
    }
   }
  },
  {
   "cell_type": "code",
   "execution_count": null,
   "outputs": [],
   "source": [],
   "metadata": {
    "collapsed": false,
    "pycharm": {
     "name": "#%%\n"
    }
   }
  }
 ],
 "metadata": {
  "kernelspec": {
   "display_name": "Python 3",
   "language": "python",
   "name": "python3"
  },
  "language_info": {
   "codemirror_mode": {
    "name": "ipython",
    "version": 2
   },
   "file_extension": ".py",
   "mimetype": "text/x-python",
   "name": "python",
   "nbconvert_exporter": "python",
   "pygments_lexer": "ipython2",
   "version": "2.7.6"
  }
 },
 "nbformat": 4,
 "nbformat_minor": 0
}