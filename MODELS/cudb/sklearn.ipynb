{
 "cells": [
  {
   "cell_type": "code",
   "execution_count": 26,
   "metadata": {
    "collapsed": true
   },
   "outputs": [],
   "source": [
    "from comet_ml import Experiment\n",
    "import pickle\n",
    "import numpy as np\n",
    "import pandas as pd\n",
    "from sklearn.linear_model import LogisticRegression\n",
    "from sklearn.model_selection import GroupShuffleSplit\n",
    "from sklearn.neighbors import KNeighborsClassifier\n",
    "from sklearn.svm import SVC\n",
    "from skopt import BayesSearchCV\n",
    "from skopt import callbacks\n",
    "from skopt.callbacks import CheckpointSaver\n",
    "import skopt\n",
    "\n",
    "\n",
    "ALGORITHM = 'KNN'\n",
    "DS = 'DS1'"
   ]
  },
  {
   "cell_type": "code",
   "execution_count": null,
   "outputs": [],
   "source": [
    "for SEGMENTS_LENGTH in [3,4,5,6]:\n",
    "\n",
    "    EXPERIMENT_ID = F'BayesSearch_{ALGORITHM}_{DS}_{SEGMENTS_LENGTH}s'\n",
    "\n",
    "    data_dir = f'D:\\FINKI\\8_dps\\Project\\DATA\\MODELS_DATA\\\\{DS}'\n",
    "    X_train = pd.read_csv(f'{data_dir}\\\\segments_{SEGMENTS_LENGTH}s_train.csv')\n",
    "    X_test = pd.read_csv(f'{data_dir}\\\\segments_{SEGMENTS_LENGTH}s_test.csv')\n",
    "\n",
    "    y_train = X_train.pop('episode')\n",
    "    y_test = X_test.pop('episode')\n",
    "\n",
    "    results = list()\n",
    "    workflow_dict = dict()\n",
    "\n",
    "    hyperparameters_optimizer = BayesSearchCV(\n",
    "        KNeighborsClassifier(),\n",
    "        {\n",
    "            'n_neighbors': (2, 50),\n",
    "            'weights': ['distance', 'uniform'],\n",
    "            'p': (1,5),\n",
    "            'metric': ['minkowski'],\n",
    "            'n_jobs': [-1],\n",
    "        },\n",
    "        n_iter=500,\n",
    "        cv=5,\n",
    "        verbose = 10,\n",
    "        n_jobs = 2,\n",
    "        n_points = 2,\n",
    "        scoring = 'accuracy',\n",
    "    )\n",
    "\n",
    "    hyperparameters_optimizer.fit(X_train, y_train)\n",
    "    skopt.dump(hyperparameters_optimizer, f'saved_models\\\\{EXPERIMENT_ID}.pkl')\n",
    "\n",
    "    y_pred = hyperparameters_optimizer.best_estimator_.predict(X_test)\n",
    "\n",
    "    for i in range(len(hyperparameters_optimizer.cv_results_['params'])):\n",
    "        exp = Experiment(\n",
    "                api_key = 'A8Lg71j9LtIrsv0deBA0DVGcR',\n",
    "                project_name = 'knn',\n",
    "                workspace = \"8_dps\",\n",
    "                auto_output_logging = 'native',\n",
    "            )\n",
    "        exp.set_name(f'{EXPERIMENT_ID}_{i+1}')\n",
    "        exp.add_tags([DS, SEGMENTS_LENGTH,])\n",
    "        for k, v in hyperparameters_optimizer.cv_results_.items():\n",
    "            if k == \"params\": exp.log_parameters(dict(v[i]))\n",
    "            else: exp.log_metric(k, v[i])\n",
    "        exp.end()"
   ],
   "metadata": {
    "collapsed": false,
    "pycharm": {
     "name": "#%%\n"
    }
   }
  }
 ],
 "metadata": {
  "kernelspec": {
   "display_name": "Python 3",
   "language": "python",
   "name": "python3"
  },
  "language_info": {
   "codemirror_mode": {
    "name": "ipython",
    "version": 2
   },
   "file_extension": ".py",
   "mimetype": "text/x-python",
   "name": "python",
   "nbconvert_exporter": "python",
   "pygments_lexer": "ipython2",
   "version": "2.7.6"
  }
 },
 "nbformat": 4,
 "nbformat_minor": 0
}