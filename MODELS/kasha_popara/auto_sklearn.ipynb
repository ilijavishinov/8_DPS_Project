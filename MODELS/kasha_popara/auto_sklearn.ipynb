{
 "cells": [
  {
   "cell_type": "code",
   "execution_count": 5,
   "metadata": {
    "collapsed": true
   },
   "outputs": [],
   "source": [
    "import os\n",
    "import autokeras as ak\n",
    "import tensorflow as tf\n",
    "import kerastuner\n",
    "import pandas as pd\n",
    "import numpy as np\n",
    "import keras.backend as K\n",
    "\n",
    "def true_positives(y_test, y_pred):\n",
    "    return K.sum(K.round(K.clip(y_test * y_pred, 0, 1)))\n",
    "\n",
    "def false_positives(y_test, y_pred):\n",
    "    return K.sum(K.abs(y_test - 1) * y_pred)\n",
    "\n",
    "def false_negatives(y_test, y_pred):\n",
    "    return K.sum(y_test * K.abs(y_pred - 1))\n",
    "\n",
    "def true_negatives(y_test, y_pred):\n",
    "    return K.sum((y_test - 1) * (y_pred - 1))\n",
    "\n",
    "def precision_func(y_test, y_pred):\n",
    "    true_positives = K.sum(y_test * y_pred)\n",
    "    false_positives = K.sum(K.abs(y_test - 1) * y_pred)\n",
    "    return true_positives / (true_positives + false_positives + K.epsilon())\n",
    "\n",
    "def recall_func(y_test, y_pred):\n",
    "    true_positives = K.sum(y_test * y_pred)\n",
    "    false_negatives = K.sum(y_test * K.abs(y_pred - 1))\n",
    "    return true_positives / (true_positives + false_negatives + K.epsilon())\n",
    "\n",
    "def f1_1_func(y_test, y_pred):\n",
    "    precision = precision_func(y_test, y_pred)\n",
    "    recall = recall_func(y_test, y_pred)\n",
    "    return 2 * (precision * recall) / (precision + recall + K.epsilon())\n",
    "\n",
    "def specificity_func(y_test, y_pred):\n",
    "    true_negatives = K.sum((y_test - 1) * (y_pred - 1))\n",
    "    false_positives = K.sum(K.abs(y_test - 1) * y_pred)\n",
    "    return true_negatives / (true_negatives + false_positives + K.epsilon())\n",
    "\n",
    "def npv_func(y_test, y_pred):\n",
    "    true_negatives = K.sum((y_test - 1) * (y_pred - 1))\n",
    "    false_negatives = K.sum(y_test * K.abs(y_pred - 1))\n",
    "    return true_negatives / (true_negatives + false_negatives + K.epsilon())\n",
    "\n",
    "def f1_0_func(y_test, y_pred):\n",
    "    specificity = specificity_func(y_test, y_pred)\n",
    "    npv = npv_func(y_test, y_pred)\n",
    "    return 2 * (specificity * npv) / (specificity + npv + K.epsilon())\n",
    "\n",
    "def f1_macro_func(y_test, y_pred):\n",
    "    f1_1 = f1_1_func(y_test, y_pred)\n",
    "    f1_0 = f1_0_func(y_test, y_pred)\n",
    "    return (f1_1 + f1_0) / 2\n",
    "\n",
    "# -------------------------------------------------------------------------------------------------\n",
    "\n",
    "SEGMENTS_LENGTH = 3\n",
    "EXPERIMENT_ID = F'Base_{SEGMENTS_LENGTH}s'\n",
    "\n",
    "if not os.path.exists('Tensorboard'): os.makedirs('Tensorboard')\n",
    "if not os.path.exists('Models'): os.makedirs('Models')\n",
    "if not os.path.exists('Projects'): os.makedirs('Projects')\n",
    "tensorboard_dir = f'Tensorboard//{EXPERIMENT_ID}'\n",
    "if not os.path.exists(f'Tensorboard//{EXPERIMENT_ID}'): os.makedirs(f'Tensorboard//{EXPERIMENT_ID}')\n"
   ]
  },
  {
   "cell_type": "code",
   "execution_count": 7,
   "outputs": [],
   "source": [
    "# Data reading\n",
    "\n",
    "data_dir = 'D:\\FINKI\\8_dps\\Project\\DATA\\MODELS_DATA\\\\base_models_all_dft_coefficients'\n",
    "X_train = pd.read_csv(f'{data_dir}\\\\segments_{SEGMENTS_LENGTH}s_train.csv')\n",
    "X_test = pd.read_csv(f'{data_dir}\\\\segments_{SEGMENTS_LENGTH}s_test.csv')\n",
    "\n",
    "y_train = X_train.pop('episode')\n",
    "y_test = X_test.pop('episode')\n"
   ],
   "metadata": {
    "collapsed": false,
    "pycharm": {
     "name": "#%%\n"
    }
   }
  },
  {
   "cell_type": "code",
   "execution_count": 10,
   "outputs": [
    {
     "name": "stdout",
     "output_type": "stream",
     "text": [
      "Trial 2 Complete [00h 00m 04s]\n",
      "f1_macro_func: 0.521094024181366\n",
      "\n",
      "Best f1_macro_func So Far: 0.5269290804862976\n",
      "Total elapsed time: 00h 00m 07s\n",
      "INFO:tensorflow:Oracle triggered exit\n",
      "Epoch 1/2\n",
      "WARNING:tensorflow:Early stopping conditioned on metric `val_loss` which is not available. Available metrics are: loss,f1_1_func,accuracy,f1_macro_func,f1_0_func\n",
      "Epoch 2/2\n",
      "WARNING:tensorflow:Early stopping conditioned on metric `val_loss` which is not available. Available metrics are: loss,f1_1_func,accuracy,f1_macro_func,f1_0_func\n",
      "INFO:tensorflow:Assets written to: .\\Projects/Base_3s\\best_model\\assets\n"
     ]
    },
    {
     "ename": "ValueError",
     "evalue": "Unable to restore custom object of type _tf_keras_metric currently. Please make sure that the layer implements `get_config`and `from_config` when saving. In addition, please use the `custom_objects` arg when calling `load_model()`.",
     "output_type": "error",
     "traceback": [
      "\u001B[1;31m---------------------------------------------------------------------------\u001B[0m",
      "\u001B[1;31mValueError\u001B[0m                                Traceback (most recent call last)",
      "\u001B[1;32m<ipython-input-10-8a089fd228aa>\u001B[0m in \u001B[0;36m<module>\u001B[1;34m\u001B[0m\n\u001B[0;32m     19\u001B[0m )\n\u001B[0;32m     20\u001B[0m \u001B[1;33m\u001B[0m\u001B[0m\n\u001B[1;32m---> 21\u001B[1;33m \u001B[0mclf_best_model\u001B[0m \u001B[1;33m=\u001B[0m \u001B[0mclassifier\u001B[0m\u001B[1;33m.\u001B[0m\u001B[0mexport_model\u001B[0m\u001B[1;33m(\u001B[0m\u001B[1;33m)\u001B[0m\u001B[1;33m\u001B[0m\u001B[1;33m\u001B[0m\u001B[0m\n\u001B[0m\u001B[0;32m     22\u001B[0m \u001B[1;33m\u001B[0m\u001B[0m\n\u001B[0;32m     23\u001B[0m \u001B[1;31m# %%\u001B[0m\u001B[1;33m\u001B[0m\u001B[1;33m\u001B[0m\u001B[1;33m\u001B[0m\u001B[0m\n",
      "\u001B[1;32md:\\finki\\8_dps\\project\\venv\\lib\\site-packages\\autokeras\\auto_model.py\u001B[0m in \u001B[0;36mexport_model\u001B[1;34m(self)\u001B[0m\n\u001B[0;32m    471\u001B[0m             \u001B[1;32mwith\u001B[0m \u001B[0mtrained\u001B[0m \u001B[0mweights\u001B[0m\u001B[1;33m.\u001B[0m\u001B[1;33m\u001B[0m\u001B[1;33m\u001B[0m\u001B[0m\n\u001B[0;32m    472\u001B[0m         \"\"\"\n\u001B[1;32m--> 473\u001B[1;33m         \u001B[1;32mreturn\u001B[0m \u001B[0mself\u001B[0m\u001B[1;33m.\u001B[0m\u001B[0mtuner\u001B[0m\u001B[1;33m.\u001B[0m\u001B[0mget_best_model\u001B[0m\u001B[1;33m(\u001B[0m\u001B[1;33m)\u001B[0m\u001B[1;33m\u001B[0m\u001B[1;33m\u001B[0m\u001B[0m\n\u001B[0m",
      "\u001B[1;32md:\\finki\\8_dps\\project\\venv\\lib\\site-packages\\autokeras\\engine\\tuner.py\u001B[0m in \u001B[0;36mget_best_model\u001B[1;34m(self)\u001B[0m\n\u001B[0;32m     61\u001B[0m     \u001B[1;32mdef\u001B[0m \u001B[0mget_best_model\u001B[0m\u001B[1;33m(\u001B[0m\u001B[0mself\u001B[0m\u001B[1;33m)\u001B[0m\u001B[1;33m:\u001B[0m\u001B[1;33m\u001B[0m\u001B[1;33m\u001B[0m\u001B[0m\n\u001B[0;32m     62\u001B[0m         \u001B[1;32mwith\u001B[0m \u001B[0mhm_module\u001B[0m\u001B[1;33m.\u001B[0m\u001B[0mmaybe_distribute\u001B[0m\u001B[1;33m(\u001B[0m\u001B[0mself\u001B[0m\u001B[1;33m.\u001B[0m\u001B[0mdistribution_strategy\u001B[0m\u001B[1;33m)\u001B[0m\u001B[1;33m:\u001B[0m\u001B[1;33m\u001B[0m\u001B[1;33m\u001B[0m\u001B[0m\n\u001B[1;32m---> 63\u001B[1;33m             \u001B[0mmodel\u001B[0m \u001B[1;33m=\u001B[0m \u001B[0mtf\u001B[0m\u001B[1;33m.\u001B[0m\u001B[0mkeras\u001B[0m\u001B[1;33m.\u001B[0m\u001B[0mmodels\u001B[0m\u001B[1;33m.\u001B[0m\u001B[0mload_model\u001B[0m\u001B[1;33m(\u001B[0m\u001B[0mself\u001B[0m\u001B[1;33m.\u001B[0m\u001B[0mbest_model_path\u001B[0m\u001B[1;33m)\u001B[0m\u001B[1;33m\u001B[0m\u001B[1;33m\u001B[0m\u001B[0m\n\u001B[0m\u001B[0;32m     64\u001B[0m         \u001B[1;32mreturn\u001B[0m \u001B[0mmodel\u001B[0m\u001B[1;33m\u001B[0m\u001B[1;33m\u001B[0m\u001B[0m\n\u001B[0;32m     65\u001B[0m \u001B[1;33m\u001B[0m\u001B[0m\n",
      "\u001B[1;32md:\\finki\\8_dps\\project\\venv\\lib\\site-packages\\tensorflow\\python\\keras\\saving\\save.py\u001B[0m in \u001B[0;36mload_model\u001B[1;34m(filepath, custom_objects, compile, options)\u001B[0m\n\u001B[0;32m    210\u001B[0m       \u001B[1;32mif\u001B[0m \u001B[0misinstance\u001B[0m\u001B[1;33m(\u001B[0m\u001B[0mfilepath\u001B[0m\u001B[1;33m,\u001B[0m \u001B[0msix\u001B[0m\u001B[1;33m.\u001B[0m\u001B[0mstring_types\u001B[0m\u001B[1;33m)\u001B[0m\u001B[1;33m:\u001B[0m\u001B[1;33m\u001B[0m\u001B[1;33m\u001B[0m\u001B[0m\n\u001B[0;32m    211\u001B[0m         \u001B[0mloader_impl\u001B[0m\u001B[1;33m.\u001B[0m\u001B[0mparse_saved_model\u001B[0m\u001B[1;33m(\u001B[0m\u001B[0mfilepath\u001B[0m\u001B[1;33m)\u001B[0m\u001B[1;33m\u001B[0m\u001B[1;33m\u001B[0m\u001B[0m\n\u001B[1;32m--> 212\u001B[1;33m         \u001B[1;32mreturn\u001B[0m \u001B[0msaved_model_load\u001B[0m\u001B[1;33m.\u001B[0m\u001B[0mload\u001B[0m\u001B[1;33m(\u001B[0m\u001B[0mfilepath\u001B[0m\u001B[1;33m,\u001B[0m \u001B[0mcompile\u001B[0m\u001B[1;33m,\u001B[0m \u001B[0moptions\u001B[0m\u001B[1;33m)\u001B[0m\u001B[1;33m\u001B[0m\u001B[1;33m\u001B[0m\u001B[0m\n\u001B[0m\u001B[0;32m    213\u001B[0m \u001B[1;33m\u001B[0m\u001B[0m\n\u001B[0;32m    214\u001B[0m   raise IOError(\n",
      "\u001B[1;32md:\\finki\\8_dps\\project\\venv\\lib\\site-packages\\tensorflow\\python\\keras\\saving\\saved_model\\load.py\u001B[0m in \u001B[0;36mload\u001B[1;34m(path, compile, options)\u001B[0m\n\u001B[0;32m    136\u001B[0m   \u001B[1;31m# Recreate layers and metrics using the info stored in the metadata.\u001B[0m\u001B[1;33m\u001B[0m\u001B[1;33m\u001B[0m\u001B[1;33m\u001B[0m\u001B[0m\n\u001B[0;32m    137\u001B[0m   \u001B[0mkeras_loader\u001B[0m \u001B[1;33m=\u001B[0m \u001B[0mKerasObjectLoader\u001B[0m\u001B[1;33m(\u001B[0m\u001B[0mmetadata\u001B[0m\u001B[1;33m,\u001B[0m \u001B[0mobject_graph_def\u001B[0m\u001B[1;33m)\u001B[0m\u001B[1;33m\u001B[0m\u001B[1;33m\u001B[0m\u001B[0m\n\u001B[1;32m--> 138\u001B[1;33m   \u001B[0mkeras_loader\u001B[0m\u001B[1;33m.\u001B[0m\u001B[0mload_layers\u001B[0m\u001B[1;33m(\u001B[0m\u001B[0mcompile\u001B[0m\u001B[1;33m=\u001B[0m\u001B[0mcompile\u001B[0m\u001B[1;33m)\u001B[0m\u001B[1;33m\u001B[0m\u001B[1;33m\u001B[0m\u001B[0m\n\u001B[0m\u001B[0;32m    139\u001B[0m \u001B[1;33m\u001B[0m\u001B[0m\n\u001B[0;32m    140\u001B[0m   \u001B[1;31m# Generate a dictionary of all loaded nodes.\u001B[0m\u001B[1;33m\u001B[0m\u001B[1;33m\u001B[0m\u001B[1;33m\u001B[0m\u001B[0m\n",
      "\u001B[1;32md:\\finki\\8_dps\\project\\venv\\lib\\site-packages\\tensorflow\\python\\keras\\saving\\saved_model\\load.py\u001B[0m in \u001B[0;36mload_layers\u001B[1;34m(self, compile)\u001B[0m\n\u001B[0;32m    378\u001B[0m     \u001B[1;32mfor\u001B[0m \u001B[0mnode_metadata\u001B[0m \u001B[1;32min\u001B[0m \u001B[0mmetric_list\u001B[0m\u001B[1;33m:\u001B[0m\u001B[1;33m\u001B[0m\u001B[1;33m\u001B[0m\u001B[0m\n\u001B[0;32m    379\u001B[0m       \u001B[1;32mtry\u001B[0m\u001B[1;33m:\u001B[0m\u001B[1;33m\u001B[0m\u001B[1;33m\u001B[0m\u001B[0m\n\u001B[1;32m--> 380\u001B[1;33m         self.loaded_nodes[node_metadata.node_id] = self._load_layer(\n\u001B[0m\u001B[0;32m    381\u001B[0m             \u001B[0mnode_metadata\u001B[0m\u001B[1;33m.\u001B[0m\u001B[0mnode_id\u001B[0m\u001B[1;33m,\u001B[0m \u001B[0mnode_metadata\u001B[0m\u001B[1;33m.\u001B[0m\u001B[0midentifier\u001B[0m\u001B[1;33m,\u001B[0m\u001B[1;33m\u001B[0m\u001B[1;33m\u001B[0m\u001B[0m\n\u001B[0;32m    382\u001B[0m             node_metadata.metadata)\n",
      "\u001B[1;32md:\\finki\\8_dps\\project\\venv\\lib\\site-packages\\tensorflow\\python\\keras\\saving\\saved_model\\load.py\u001B[0m in \u001B[0;36m_load_layer\u001B[1;34m(self, node_id, identifier, metadata)\u001B[0m\n\u001B[0;32m    417\u001B[0m     \u001B[0mobj\u001B[0m\u001B[1;33m,\u001B[0m \u001B[0msetter\u001B[0m \u001B[1;33m=\u001B[0m \u001B[0mself\u001B[0m\u001B[1;33m.\u001B[0m\u001B[0m_revive_from_config\u001B[0m\u001B[1;33m(\u001B[0m\u001B[0midentifier\u001B[0m\u001B[1;33m,\u001B[0m \u001B[0mmetadata\u001B[0m\u001B[1;33m,\u001B[0m \u001B[0mnode_id\u001B[0m\u001B[1;33m)\u001B[0m\u001B[1;33m\u001B[0m\u001B[1;33m\u001B[0m\u001B[0m\n\u001B[0;32m    418\u001B[0m     \u001B[1;32mif\u001B[0m \u001B[0mobj\u001B[0m \u001B[1;32mis\u001B[0m \u001B[1;32mNone\u001B[0m\u001B[1;33m:\u001B[0m\u001B[1;33m\u001B[0m\u001B[1;33m\u001B[0m\u001B[0m\n\u001B[1;32m--> 419\u001B[1;33m       \u001B[0mobj\u001B[0m\u001B[1;33m,\u001B[0m \u001B[0msetter\u001B[0m \u001B[1;33m=\u001B[0m \u001B[0mrevive_custom_object\u001B[0m\u001B[1;33m(\u001B[0m\u001B[0midentifier\u001B[0m\u001B[1;33m,\u001B[0m \u001B[0mmetadata\u001B[0m\u001B[1;33m)\u001B[0m\u001B[1;33m\u001B[0m\u001B[1;33m\u001B[0m\u001B[0m\n\u001B[0m\u001B[0;32m    420\u001B[0m \u001B[1;33m\u001B[0m\u001B[0m\n\u001B[0;32m    421\u001B[0m     \u001B[1;31m# Add an attribute that stores the extra functions/objects saved in the\u001B[0m\u001B[1;33m\u001B[0m\u001B[1;33m\u001B[0m\u001B[1;33m\u001B[0m\u001B[0m\n",
      "\u001B[1;32md:\\finki\\8_dps\\project\\venv\\lib\\site-packages\\tensorflow\\python\\keras\\saving\\saved_model\\load.py\u001B[0m in \u001B[0;36mrevive_custom_object\u001B[1;34m(identifier, metadata)\u001B[0m\n\u001B[0;32m    931\u001B[0m     \u001B[1;32mreturn\u001B[0m \u001B[0mrevived_cls\u001B[0m\u001B[1;33m.\u001B[0m\u001B[0m_init_from_metadata\u001B[0m\u001B[1;33m(\u001B[0m\u001B[0mmetadata\u001B[0m\u001B[1;33m)\u001B[0m  \u001B[1;31m# pylint: disable=protected-access\u001B[0m\u001B[1;33m\u001B[0m\u001B[1;33m\u001B[0m\u001B[0m\n\u001B[0;32m    932\u001B[0m   \u001B[1;32melse\u001B[0m\u001B[1;33m:\u001B[0m\u001B[1;33m\u001B[0m\u001B[1;33m\u001B[0m\u001B[0m\n\u001B[1;32m--> 933\u001B[1;33m     raise ValueError('Unable to restore custom object of type {} currently. '\n\u001B[0m\u001B[0;32m    934\u001B[0m                      \u001B[1;34m'Please make sure that the layer implements `get_config`'\u001B[0m\u001B[1;33m\u001B[0m\u001B[1;33m\u001B[0m\u001B[0m\n\u001B[0;32m    935\u001B[0m                      \u001B[1;34m'and `from_config` when saving. In addition, please use '\u001B[0m\u001B[1;33m\u001B[0m\u001B[1;33m\u001B[0m\u001B[0m\n",
      "\u001B[1;31mValueError\u001B[0m: Unable to restore custom object of type _tf_keras_metric currently. Please make sure that the layer implements `get_config`and `from_config` when saving. In addition, please use the `custom_objects` arg when calling `load_model()`."
     ]
    }
   ],
   "source": [
    "classifier = ak.StructuredDataClassifier(\n",
    "    project_name = f\"Projects/{EXPERIMENT_ID}\",\n",
    "    objective = kerastuner.Objective('f1_macro_func', direction='max'),\n",
    "    metrics=[f1_1_func, \"accuracy\", f1_macro_func, f1_0_func],\n",
    "    overwrite=True,\n",
    "    max_trials=2,\n",
    ")\n",
    "\n",
    "tensorboard_callback_train = tf.keras.callbacks.TensorBoard(log_dir=f'Tensorboard//{EXPERIMENT_ID}')\n",
    "Early_Stopping = tf.keras.callbacks.EarlyStopping(monitor='val_loss', patience=50)\n",
    "\n",
    "classifier.fit(\n",
    "    X_train,\n",
    "    y_train,\n",
    "    epochs=2,\n",
    "    verbose=10,\n",
    "    callbacks=[Early_Stopping, tensorboard_callback_train],\n",
    "    batch_size=1000,\n",
    ")\n",
    "\n",
    "clf_best_model = classifier.export_model()\n",
    "\n",
    "# %%\n",
    "try: clf_best_model.save(f\"Models/{EXPERIMENT_ID}\", save_format=\"tf\")\n",
    "except: clf_best_model.save(f\"Models/{EXPERIMENT_ID}.h5\")\n",
    "# %%\n",
    "from tensorflow.keras.models import load_model\n",
    "Custom_Objects = ak.CUSTOM_OBJECTS\n",
    "Custom_Objects[\"f1_0_func\"] = f1_0_func\n",
    "Custom_Objects[\"f1_1_func\"] = f1_1_func\n",
    "Custom_Objects[\"f1_macro_func\"] = f1_macro_func\n",
    "loaded_model = load_model(f\"Models/{EXPERIMENT_ID}\", custom_objects=Custom_Objects)\n",
    "\n",
    "\n",
    "print(\"\\n================================= Best Modal Evaluattion ==============================\\n\")\n",
    "print('\\n Loss: {accuracy[0]} \\n F1 score: {accuracy[1]} \\n Accuracy: {accuracy[2]}'.format(\n",
    "    accuracy=loaded_model.evaluate(np.array(X_test).astype(str), y_test, batch_size=50001))\n",
    ")\n",
    "print(\"\\n=======================================================================================\\n\")\n",
    "\n",
    "print(\"+++++++++++++++++++++++++++++++++++++++++++++++++++++ FINISHED SCRIPT +++++++++++++++++++++++++++++++++++++++++++++++++++++++++++++++\")\n",
    "\n",
    "\n",
    "y_pred = loaded_model.predict(np.array(X_test).astype(str)).astype(int).ravel()\n",
    "\n",
    "pd.DataFrame({'y_test': y_test, 'y_pred': y_pred}).to_excel('model_predictions.xlsx')\n",
    "print(pd.DataFrame({'y_test': y_test, 'y_pred': y_pred}))"
   ],
   "metadata": {
    "collapsed": false,
    "pycharm": {
     "name": "#%%\n"
    }
   }
  },
  {
   "cell_type": "code",
   "execution_count": null,
   "outputs": [],
   "source": [],
   "metadata": {
    "collapsed": false,
    "pycharm": {
     "name": "#%%\n"
    }
   }
  }
 ],
 "metadata": {
  "kernelspec": {
   "display_name": "Python 3",
   "language": "python",
   "name": "python3"
  },
  "language_info": {
   "codemirror_mode": {
    "name": "ipython",
    "version": 2
   },
   "file_extension": ".py",
   "mimetype": "text/x-python",
   "name": "python",
   "nbconvert_exporter": "python",
   "pygments_lexer": "ipython2",
   "version": "2.7.6"
  }
 },
 "nbformat": 4,
 "nbformat_minor": 0
}