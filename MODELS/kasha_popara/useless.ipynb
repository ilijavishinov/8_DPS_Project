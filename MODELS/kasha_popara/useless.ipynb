{
 "cells": [
  {
   "cell_type": "code",
   "execution_count": 3,
   "metadata": {
    "collapsed": true
   },
   "outputs": [
    {
     "name": "stdout",
     "output_type": "stream",
     "text": [
      "67\n",
      "87\n",
      "107\n",
      "127\n",
      "152\n",
      "172\n",
      "192\n",
      "212\n"
     ]
    }
   ],
   "source": [
    "import pandas as pd\n",
    "\n",
    "\n",
    "data_dir = 'D:\\FINKI\\8_dps\\Project\\DATA\\MODELS_DATA\\\\base_models_all_dft_coefficients'\n",
    "\n",
    "for i in [3,4,5,6,7,8,9,10]:\n",
    "    train = pd.read_csv(f'{data_dir}\\\\segments_{i}s_train.csv')\n",
    "    print(len(list(train.columns)))\n"
   ]
  },
  {
   "cell_type": "code",
   "execution_count": null,
   "outputs": [],
   "source": [],
   "metadata": {
    "collapsed": false,
    "pycharm": {
     "name": "#%%\n"
    }
   }
  }
 ],
 "metadata": {
  "kernelspec": {
   "display_name": "Python 3",
   "language": "python",
   "name": "python3"
  },
  "language_info": {
   "codemirror_mode": {
    "name": "ipython",
    "version": 2
   },
   "file_extension": ".py",
   "mimetype": "text/x-python",
   "name": "python",
   "nbconvert_exporter": "python",
   "pygments_lexer": "ipython2",
   "version": "2.7.6"
  }
 },
 "nbformat": 4,
 "nbformat_minor": 0
}