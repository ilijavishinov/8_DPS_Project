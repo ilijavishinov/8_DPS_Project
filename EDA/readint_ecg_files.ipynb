{
 "cells": [
  {
   "cell_type": "code",
   "execution_count": 8,
   "metadata": {
    "collapsed": true
   },
   "outputs": [
    {
     "ename": "OSError",
     "evalue": "Could not open parquet input source 'D:/FINKI/8_dps/Project/DATA/MITDB/HEA/100.hea': Invalid: Parquet magic bytes not found in footer. Either the file is corrupted or this is not a parquet file.",
     "output_type": "error",
     "traceback": [
      "\u001B[1;31m---------------------------------------------------------------------------\u001B[0m",
      "\u001B[1;31mOSError\u001B[0m                                   Traceback (most recent call last)",
      "\u001B[1;32m<ipython-input-8-6644d341204d>\u001B[0m in \u001B[0;36m<module>\u001B[1;34m\u001B[0m\n\u001B[0;32m      1\u001B[0m \u001B[1;32mimport\u001B[0m \u001B[0mpandas\u001B[0m \u001B[1;32mas\u001B[0m \u001B[0mpd\u001B[0m\u001B[1;33m\u001B[0m\u001B[1;33m\u001B[0m\u001B[0m\n\u001B[0;32m      2\u001B[0m \u001B[1;33m\u001B[0m\u001B[0m\n\u001B[1;32m----> 3\u001B[1;33m \u001B[0mecg_100\u001B[0m \u001B[1;33m=\u001B[0m \u001B[0mpd\u001B[0m\u001B[1;33m.\u001B[0m\u001B[0mread_parquet\u001B[0m\u001B[1;33m(\u001B[0m\u001B[1;34m\"D:\\FINKI\\8_dps\\Project\\DATA\\MITDB\\HEA\\\\100.hea\"\u001B[0m\u001B[1;33m,\u001B[0m \u001B[0mengine\u001B[0m \u001B[1;33m=\u001B[0m \u001B[1;34m'pyarrow'\u001B[0m\u001B[1;33m)\u001B[0m\u001B[1;33m\u001B[0m\u001B[1;33m\u001B[0m\u001B[0m\n\u001B[0m",
      "\u001B[1;32m~\\AppData\\Local\\Programs\\Python\\Python38\\lib\\site-packages\\pandas\\io\\parquet.py\u001B[0m in \u001B[0;36mread_parquet\u001B[1;34m(path, engine, columns, **kwargs)\u001B[0m\n\u001B[0;32m    294\u001B[0m \u001B[1;33m\u001B[0m\u001B[0m\n\u001B[0;32m    295\u001B[0m     \u001B[0mimpl\u001B[0m \u001B[1;33m=\u001B[0m \u001B[0mget_engine\u001B[0m\u001B[1;33m(\u001B[0m\u001B[0mengine\u001B[0m\u001B[1;33m)\u001B[0m\u001B[1;33m\u001B[0m\u001B[1;33m\u001B[0m\u001B[0m\n\u001B[1;32m--> 296\u001B[1;33m     \u001B[1;32mreturn\u001B[0m \u001B[0mimpl\u001B[0m\u001B[1;33m.\u001B[0m\u001B[0mread\u001B[0m\u001B[1;33m(\u001B[0m\u001B[0mpath\u001B[0m\u001B[1;33m,\u001B[0m \u001B[0mcolumns\u001B[0m\u001B[1;33m=\u001B[0m\u001B[0mcolumns\u001B[0m\u001B[1;33m,\u001B[0m \u001B[1;33m**\u001B[0m\u001B[0mkwargs\u001B[0m\u001B[1;33m)\u001B[0m\u001B[1;33m\u001B[0m\u001B[1;33m\u001B[0m\u001B[0m\n\u001B[0m",
      "\u001B[1;32m~\\AppData\\Local\\Programs\\Python\\Python38\\lib\\site-packages\\pandas\\io\\parquet.py\u001B[0m in \u001B[0;36mread\u001B[1;34m(self, path, columns, **kwargs)\u001B[0m\n\u001B[0;32m    122\u001B[0m \u001B[1;33m\u001B[0m\u001B[0m\n\u001B[0;32m    123\u001B[0m         \u001B[0mkwargs\u001B[0m\u001B[1;33m[\u001B[0m\u001B[1;34m\"use_pandas_metadata\"\u001B[0m\u001B[1;33m]\u001B[0m \u001B[1;33m=\u001B[0m \u001B[1;32mTrue\u001B[0m\u001B[1;33m\u001B[0m\u001B[1;33m\u001B[0m\u001B[0m\n\u001B[1;32m--> 124\u001B[1;33m         result = self.api.parquet.read_table(\n\u001B[0m\u001B[0;32m    125\u001B[0m             \u001B[0mpath\u001B[0m\u001B[1;33m,\u001B[0m \u001B[0mcolumns\u001B[0m\u001B[1;33m=\u001B[0m\u001B[0mcolumns\u001B[0m\u001B[1;33m,\u001B[0m \u001B[1;33m**\u001B[0m\u001B[0mkwargs\u001B[0m\u001B[1;33m\u001B[0m\u001B[1;33m\u001B[0m\u001B[0m\n\u001B[0;32m    126\u001B[0m         ).to_pandas()\n",
      "\u001B[1;32m~\\AppData\\Local\\Programs\\Python\\Python38\\lib\\site-packages\\pyarrow\\parquet.py\u001B[0m in \u001B[0;36mread_table\u001B[1;34m(source, columns, use_threads, metadata, use_pandas_metadata, memory_map, read_dictionary, filesystem, filters, buffer_size, partitioning, use_legacy_dataset, ignore_prefixes)\u001B[0m\n\u001B[0;32m   1670\u001B[0m             )\n\u001B[0;32m   1671\u001B[0m         \u001B[1;32mtry\u001B[0m\u001B[1;33m:\u001B[0m\u001B[1;33m\u001B[0m\u001B[1;33m\u001B[0m\u001B[0m\n\u001B[1;32m-> 1672\u001B[1;33m             dataset = _ParquetDatasetV2(\n\u001B[0m\u001B[0;32m   1673\u001B[0m                 \u001B[0msource\u001B[0m\u001B[1;33m,\u001B[0m\u001B[1;33m\u001B[0m\u001B[1;33m\u001B[0m\u001B[0m\n\u001B[0;32m   1674\u001B[0m                 \u001B[0mfilesystem\u001B[0m\u001B[1;33m=\u001B[0m\u001B[0mfilesystem\u001B[0m\u001B[1;33m,\u001B[0m\u001B[1;33m\u001B[0m\u001B[1;33m\u001B[0m\u001B[0m\n",
      "\u001B[1;32m~\\AppData\\Local\\Programs\\Python\\Python38\\lib\\site-packages\\pyarrow\\parquet.py\u001B[0m in \u001B[0;36m__init__\u001B[1;34m(self, path_or_paths, filesystem, filters, partitioning, read_dictionary, buffer_size, memory_map, ignore_prefixes, **kwargs)\u001B[0m\n\u001B[0;32m   1515\u001B[0m \u001B[1;33m\u001B[0m\u001B[0m\n\u001B[0;32m   1516\u001B[0m             self._dataset = ds.FileSystemDataset(\n\u001B[1;32m-> 1517\u001B[1;33m                 \u001B[1;33m[\u001B[0m\u001B[0mfragment\u001B[0m\u001B[1;33m]\u001B[0m\u001B[1;33m,\u001B[0m \u001B[0mschema\u001B[0m\u001B[1;33m=\u001B[0m\u001B[0mfragment\u001B[0m\u001B[1;33m.\u001B[0m\u001B[0mphysical_schema\u001B[0m\u001B[1;33m,\u001B[0m\u001B[1;33m\u001B[0m\u001B[1;33m\u001B[0m\u001B[0m\n\u001B[0m\u001B[0;32m   1518\u001B[0m                 \u001B[0mformat\u001B[0m\u001B[1;33m=\u001B[0m\u001B[0mparquet_format\u001B[0m\u001B[1;33m,\u001B[0m\u001B[1;33m\u001B[0m\u001B[1;33m\u001B[0m\u001B[0m\n\u001B[0;32m   1519\u001B[0m                 \u001B[0mfilesystem\u001B[0m\u001B[1;33m=\u001B[0m\u001B[0mfragment\u001B[0m\u001B[1;33m.\u001B[0m\u001B[0mfilesystem\u001B[0m\u001B[1;33m\u001B[0m\u001B[1;33m\u001B[0m\u001B[0m\n",
      "\u001B[1;32m~\\AppData\\Local\\Programs\\Python\\Python38\\lib\\site-packages\\pyarrow\\_dataset.pyx\u001B[0m in \u001B[0;36mpyarrow._dataset.Fragment.physical_schema.__get__\u001B[1;34m()\u001B[0m\n",
      "\u001B[1;32m~\\AppData\\Local\\Programs\\Python\\Python38\\lib\\site-packages\\pyarrow\\error.pxi\u001B[0m in \u001B[0;36mpyarrow.lib.pyarrow_internal_check_status\u001B[1;34m()\u001B[0m\n",
      "\u001B[1;32m~\\AppData\\Local\\Programs\\Python\\Python38\\lib\\site-packages\\pyarrow\\error.pxi\u001B[0m in \u001B[0;36mpyarrow.lib.check_status\u001B[1;34m()\u001B[0m\n",
      "\u001B[1;31mOSError\u001B[0m: Could not open parquet input source 'D:/FINKI/8_dps/Project/DATA/MITDB/HEA/100.hea': Invalid: Parquet magic bytes not found in footer. Either the file is corrupted or this is not a parquet file."
     ]
    }
   ],
   "source": [
    "import pandas as pd\n",
    "\n",
    "ecg_100 = pd.read_parquet(\"D:\\FINKI\\8_dps\\Project\\DATA\\MITDB\\HEA\\\\100.hea\", engine = 'pyarrow')"
   ]
  },
  {
   "cell_type": "code",
   "execution_count": null,
   "outputs": [],
   "source": [],
   "metadata": {
    "collapsed": false,
    "pycharm": {
     "name": "#%%\n"
    }
   }
  }
 ],
 "metadata": {
  "kernelspec": {
   "display_name": "Python 3",
   "language": "python",
   "name": "python3"
  },
  "language_info": {
   "codemirror_mode": {
    "name": "ipython",
    "version": 2
   },
   "file_extension": ".py",
   "mimetype": "text/x-python",
   "name": "python",
   "nbconvert_exporter": "python",
   "pygments_lexer": "ipython2",
   "version": "2.7.6"
  }
 },
 "nbformat": 4,
 "nbformat_minor": 0
}